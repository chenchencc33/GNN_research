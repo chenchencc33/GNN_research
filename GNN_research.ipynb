{
  "nbformat": 4,
  "nbformat_minor": 0,
  "metadata": {
    "colab": {
      "provenance": []
    },
    "kernelspec": {
      "name": "python3",
      "display_name": "Python 3"
    },
    "language_info": {
      "name": "python"
    }
  },
  "cells": [
    {
      "cell_type": "code",
      "source": [
        "\n",
        "from google.colab import drive\n",
        "drive.mount('/content/drive')"
      ],
      "metadata": {
        "colab": {
          "base_uri": "https://localhost:8080/"
        },
        "id": "_P4nbG3zqgID",
        "outputId": "d469c37b-ad45-418c-dfd1-b1e017a16e0d"
      },
      "execution_count": null,
      "outputs": [
        {
          "output_type": "stream",
          "name": "stdout",
          "text": [
            "Drive already mounted at /content/drive; to attempt to forcibly remount, call drive.mount(\"/content/drive\", force_remount=True).\n"
          ]
        }
      ]
    },
    {
      "cell_type": "code",
      "source": [
        "import numpy as np\n",
        "\n",
        "# # Open COVID-US\n",
        "# COVID_US = np.load('/content/drive/MyDrive/Data/COVID-US-51x1-20191114-20200531.npz')\n",
        "# keys = COVID_US.files\n",
        "# print(\"Keys in the npz file:\", keys)\n",
        "\n",
        "# Open JONAS-DC\n",
        "JONAS_DC = np.load('/content/drive/MyDrive/EAST-Net/data/JONAS-DC-9x12-20151024-20160131.npz')\n",
        "keys = JONAS_DC.files\n",
        "print(\"Keys in the npz file:\", keys)"
      ],
      "metadata": {
        "id": "rPYub6jaUlQg",
        "colab": {
          "base_uri": "https://localhost:8080/"
        },
        "outputId": "0db1f5cc-85c4-42cc-e32f-5c7cc78da2e9"
      },
      "execution_count": null,
      "outputs": [
        {
          "output_type": "stream",
          "name": "stdout",
          "text": [
            "Keys in the npz file: ['taxi', 'bike', 'meta_onehot', 'tcov_relu', 'tcov_half', 'tcov_tanh', 'mask']\n"
          ]
        }
      ]
    },
    {
      "cell_type": "code",
      "source": [
        "from sklearn.model_selection import train_test_split\n",
        "\n",
        "# Extract data\n",
        "taxi_data = JONAS_DC['taxi']\n",
        "bike_data = JONAS_DC['bike']\n",
        "meta_onehot_data = JONAS_DC['meta_onehot']\n",
        "tcov_relu_data = JONAS_DC['tcov_relu']\n",
        "tcov_half_data = JONAS_DC['tcov_half']\n",
        "tcov_tanh_data = JONAS_DC['tcov_tanh']\n",
        "mask_data = JONAS_DC['mask']\n",
        "print(taxi_data.shape)\n",
        "print(bike_data.shape)\n",
        "print(meta_onehot_data.shape)\n",
        "print(tcov_relu_data.shape)\n",
        "print(tcov_half_data.shape)\n",
        "print(tcov_tanh_data.shape)\n",
        "print(mask_data.shape)\n",
        "# poi_data = COVID_US['poi']\n",
        "# meta_onehot_data_c = COVID_US['meta_onehot']\n",
        "# tcov_relu_data_c = COVID_US['tcov_relu']\n",
        "# tcov_half_data_c = COVID_US['tcov_half']\n",
        "# tcov_tanh_data_c = COVID_US['tcov_tanh']\n",
        "# mask_data_c = COVID_US['mask']\n",
        "\n",
        "# # Create the dictionary dataset\n",
        "# COVID_dict = {\n",
        "#     'poi': poi_data,\n",
        "#     'meta_onehot': meta_onehot_data_c,\n",
        "#     'tcov_relu': tcov_relu_data_c,\n",
        "#     'tcov_half': tcov_half_data_c,\n",
        "#     'tcov_tanh': tcov_tanh_data_c\n",
        "# }\n",
        "\n",
        "# Create the dictionary dataset\n",
        "JONAS_dict = {\n",
        "    'taxi': taxi_data,\n",
        "    'bike': bike_data,\n",
        "    'meta_onehot': meta_onehot_data,\n",
        "    'tcov_relu': tcov_relu_data,\n",
        "    'tcov_half': tcov_half_data,\n",
        "    'tcov_tanh': tcov_tanh_data\n",
        "}\n"
      ],
      "metadata": {
        "id": "Ui7mXeQeCmpM",
        "colab": {
          "base_uri": "https://localhost:8080/"
        },
        "outputId": "1abc38ea-9861-4100-c943-780ffb7298f0"
      },
      "execution_count": null,
      "outputs": [
        {
          "output_type": "stream",
          "name": "stdout",
          "text": [
            "(2400, 9, 12, 2)\n",
            "(2400, 9, 12, 2)\n",
            "(2400, 36)\n",
            "(2400, 8)\n",
            "(2400, 8)\n",
            "(2400, 8)\n",
            "(0,)\n"
          ]
        }
      ]
    },
    {
      "cell_type": "code",
      "source": [
        "import matplotlib.pyplot as plt\n",
        "\n",
        "# Get the last item in the list\n",
        "last_item = meta_onehot_data[:,-1].reshape(-1,1)\n",
        "# Reshape the original array into a shape (100, 24)\n",
        "reshaped_array = last_item.reshape(100, 24)\n",
        "\n",
        "# Extract the first value from each group of 24 rows to create the new array with shape (100, 1)\n",
        "new_array = reshaped_array[:, 0]\n",
        "x = np.arange(100)\n",
        "# Create the bar chart\n",
        "# Create a scatter plot\n",
        "# Create the bar chart\n",
        "plt.figure(figsize=(12, 6))\n",
        "plt.bar(range(100), new_array, color='blue')\n",
        "\n",
        "# Add a title and labels\n",
        "plt.title('Bar Chart Showing the First Value from Each Group of 24 Rows')\n",
        "plt.xlabel('Group')\n",
        "plt.ylabel('First Value')\n",
        "\n",
        "# Show the plot\n",
        "plt.show()"
      ],
      "metadata": {
        "id": "uLUkP_kcCs_w",
        "colab": {
          "base_uri": "https://localhost:8080/",
          "height": 360
        },
        "outputId": "ffcb4b12-85d9-4b00-a7b4-355769a3dbfd"
      },
      "execution_count": null,
      "outputs": [
        {
          "output_type": "display_data",
          "data": {
            "text/plain": [
              "<Figure size 1200x600 with 1 Axes>"
            ],
            "image/png": "[encoded data removed]"
          },
          "metadata": {}
        }
      ]
    },
    {
      "cell_type": "code",
      "source": [
        "import sys\n",
        "sys.path.append('/content/drive/MyDrive/EAST-Net')\n",
        "!pip install shap"
      ],
      "metadata": {
        "colab": {
          "base_uri": "https://localhost:8080/"
        },
        "id": "CAhvf72AVbZ-",
        "outputId": "5a6e6c24-9df5-4170-9de3-573154ecf21f"
      },
      "execution_count": null,
      "outputs": [
        {
          "output_type": "stream",
          "name": "stdout",
          "text": [
            "Requirement already satisfied: shap in /usr/local/lib/python3.10/dist-packages (0.45.1)\n",
            "Requirement already satisfied: numpy in /usr/local/lib/python3.10/dist-packages (from shap) (1.25.2)\n",
            "Requirement already satisfied: scipy in /usr/local/lib/python3.10/dist-packages (from shap) (1.11.4)\n",
            "Requirement already satisfied: scikit-learn in /usr/local/lib/python3.10/dist-packages (from shap) (1.2.2)\n",
            "Requirement already satisfied: pandas in /usr/local/lib/python3.10/dist-packages (from shap) (2.0.3)\n",
            "Requirement already satisfied: tqdm>=4.27.0 in /usr/local/lib/python3.10/dist-packages (from shap) (4.66.4)\n",
            "Requirement already satisfied: packaging>20.9 in /usr/local/lib/python3.10/dist-packages (from shap) (24.0)\n",
            "Requirement already satisfied: slicer==0.0.8 in /usr/local/lib/python3.10/dist-packages (from shap) (0.0.8)\n",
            "Requirement already satisfied: numba in /usr/local/lib/python3.10/dist-packages (from shap) (0.58.1)\n",
            "Requirement already satisfied: cloudpickle in /usr/local/lib/python3.10/dist-packages (from shap) (2.2.1)\n",
            "Requirement already satisfied: llvmlite<0.42,>=0.41.0dev0 in /usr/local/lib/python3.10/dist-packages (from numba->shap) (0.41.1)\n",
            "Requirement already satisfied: python-dateutil>=2.8.2 in /usr/local/lib/python3.10/dist-packages (from pandas->shap) (2.8.2)\n",
            "Requirement already satisfied: pytz>=2020.1 in /usr/local/lib/python3.10/dist-packages (from pandas->shap) (2023.4)\n",
            "Requirement already satisfied: tzdata>=2022.1 in /usr/local/lib/python3.10/dist-packages (from pandas->shap) (2024.1)\n",
            "Requirement already satisfied: joblib>=1.1.1 in /usr/local/lib/python3.10/dist-packages (from scikit-learn->shap) (1.4.2)\n",
            "Requirement already satisfied: threadpoolctl>=2.0.0 in /usr/local/lib/python3.10/dist-packages (from scikit-learn->shap) (3.5.0)\n",
            "Requirement already satisfied: six>=1.5 in /usr/local/lib/python3.10/dist-packages (from python-dateutil>=2.8.2->pandas->shap) (1.16.0)\n"
          ]
        }
      ]
    },
    {
      "cell_type": "code",
      "source": [
        "!python /content/drive/MyDrive/EAST-Net/Main.py"
      ],
      "metadata": {
        "colab": {
          "base_uri": "https://localhost:8080/"
        },
        "id": "OS0E6QhnXXFI",
        "outputId": "769de202-a472-4613-aac9-240a426cca8f"
      },
      "execution_count": null,
      "outputs": [
        {
          "output_type": "stream",
          "name": "stdout",
          "text": [
            "Dataset contents: ['poi', 'meta_onehot', 'tcov_relu', 'tcov_half', 'tcov_tanh', 'mask']\n",
            "channel 0, min: 0.0, max: 38141.0\n",
            "channel 1, min: 0.0, max: 181954.0\n",
            "channel 2, min: 0.0, max: 11331.0\n",
            "channel 3, min: 0.0, max: 121149.0\n",
            "channel 4, min: 0.0, max: 140401.0\n",
            "channel 5, min: 0.0, max: 66451.0\n",
            "channel 6, min: 0.0, max: 90182.0\n",
            "channel 7, min: 0.0, max: 26707.0\n",
            "channel 8, min: 0.0, max: 191647.0\n",
            "channel 9, min: 0.0, max: 48069.0\n",
            "\n",
            " Sun May 12 18:39:44 2024\n",
            "    Loading COVID-US data: (2019, 11, 14)~(2020, 5, 31) on 1.0 hour timeslice, shape: (4800, 51, 10), time_covariate: (4800, 39)\n",
            "\n",
            " Sun May 12 18:39:47 2024\n",
            "EAST-Net model training begins:\n",
            "Epoch 1: training time: 90.39 s/epoch, training loss: 0.02149; inference time: 3.351 s, validation loss drops from inf to 0.006697. Update model checkpoint..\n",
            "Epoch 2: training time: 88.53 s/epoch, training loss: 0.01404; inference time: 3.562 s, validation loss drops from 0.006697 to 0.006184. Update model checkpoint..\n",
            "Epoch 3: training time: 89.02 s/epoch, training loss: 0.01324; inference time: 4.474 s, validation loss drops from 0.006184 to 0.005934. Update model checkpoint..\n",
            "Epoch 4: training time: 88.05 s/epoch, training loss: 0.01191; inference time: 3.878 s, validation loss drops from 0.005934 to 0.005611. Update model checkpoint..\n",
            "Epoch 5: training time: 89.47 s/epoch, training loss: 0.01133; inference time: 3.579 s, validation loss drops from 0.005611 to 0.005295. Update model checkpoint..\n",
            "Epoch 6: training time: 87.38 s/epoch, training loss: 0.01093; inference time: 3.402 s, validation loss drops from 0.005295 to 0.004867. Update model checkpoint..\n",
            "Epoch 7: training time: 88.65 s/epoch, training loss: 0.01055; inference time: 3.507 s, validation loss does not improve from 0.004867.\n",
            "Epoch 8: training time: 89.08 s/epoch, training loss: 0.01039; inference time: 3.376 s, validation loss drops from 0.004867 to 0.004641. Update model checkpoint..\n",
            "Epoch 9: training time: 87.7 s/epoch, training loss: 0.01001; inference time: 3.464 s, validation loss drops from 0.004641 to 0.0046. Update model checkpoint..\n",
            "Epoch 10: training time: 89.66 s/epoch, training loss: 0.009693; inference time: 3.471 s, validation loss drops from 0.0046 to 0.004499. Update model checkpoint..\n",
            "Epoch 11: training time: 87.64 s/epoch, training loss: 0.009404; inference time: 3.861 s, validation loss does not improve from 0.004499.\n",
            "Epoch 12: training time: 88.8 s/epoch, training loss: 0.009179; inference time: 4.307 s, validation loss drops from 0.004499 to 0.004453. Update model checkpoint..\n",
            "Epoch 13: training time: 90.4 s/epoch, training loss: 0.008919; inference time: 3.577 s, validation loss drops from 0.004453 to 0.004393. Update model checkpoint..\n",
            "Epoch 14: training time: 92.24 s/epoch, training loss: 0.008724; inference time: 3.746 s, validation loss does not improve from 0.004393.\n",
            "Epoch 15: training time: 89.6 s/epoch, training loss: 0.008538; inference time: 4.247 s, validation loss does not improve from 0.004393.\n",
            "Epoch 16: training time: 89.68 s/epoch, training loss: 0.008403; inference time: 3.501 s, validation loss does not improve from 0.004393.\n",
            "Epoch 17: training time: 93.36 s/epoch, training loss: 0.00809; inference time: 3.455 s, validation loss does not improve from 0.004393.\n",
            "Epoch 18: training time: 89.37 s/epoch, training loss: 0.008931; inference time: 4.135 s, validation loss does not improve from 0.004393.\n",
            "Epoch 19: training time: 90.57 s/epoch, training loss: 0.008333; inference time: 4.044 s, validation loss does not improve from 0.004393.\n",
            "Epoch 20: training time: 90.48 s/epoch, training loss: 0.008121; inference time: 3.56 s, validation loss does not improve from 0.004393.\n",
            "Epoch 21: training time: 89.42 s/epoch, training loss: 0.007767; inference time: 3.442 s, validation loss does not improve from 0.004393.\n",
            "Epoch 22: training time: 87.59 s/epoch, training loss: 0.007541; inference time: 3.432 s, validation loss does not improve from 0.004393.\n",
            "\n",
            " Sun May 12 19:15:33 2024\n",
            "    Early stopping triggered at epoch 23.\n",
            "\n",
            " Sun May 12 19:15:33 2024\n",
            "     EAST-Net model training ends.\n",
            "    Average training time: 89.39 s/epoch.\n",
            "    Average inference time: 3.702 s.\n"
          ]
        }
      ]
    },
    {
      "cell_type": "code",
      "source": [],
      "metadata": {
        "id": "tKVwHtfqjKhQ"
      },
      "execution_count": null,
      "outputs": []
    }
  ]
}
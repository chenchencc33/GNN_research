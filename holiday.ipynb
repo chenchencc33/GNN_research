{
  "nbformat": 4,
  "nbformat_minor": 0,
  "metadata": {
    "colab": {
      "provenance": []
    },
    "kernelspec": {
      "name": "python3",
      "display_name": "Python 3"
    },
    "language_info": {
      "name": "python"
    }
  },
  "cells": [
    {
      "cell_type": "code",
      "source": [
        "from google.colab import drive\n",
        "drive.mount('/content/drive')"
      ],
      "metadata": {
        "colab": {
          "base_uri": "https://localhost:8080/"
        },
        "id": "wOzoT2G1YcuP",
        "outputId": "c7d86a79-b21a-4fc7-d1e1-d9af713a93e0"
      },
      "execution_count": null,
      "outputs": [
        {
          "output_type": "stream",
          "name": "stdout",
          "text": [
            "Mounted at /content/drive\n"
          ]
        }
      ]
    },
    {
      "cell_type": "code",
      "source": [
        "import numpy as np\n",
        "# Open JONAS-DC\n",
        "JONAS_DC = np.load('/content/drive/MyDrive/EAST-Net/data/JONAS-DC-9x12-20151024-20160131.npz',allow_pickle=True)\n",
        "keys = JONAS_DC.files\n",
        "print(\"Keys in the npz file:\", keys)"
      ],
      "metadata": {
        "colab": {
          "base_uri": "https://localhost:8080/"
        },
        "id": "M2-AitO2Yekq",
        "outputId": "5e28d57b-575c-443d-ab1d-bc9725bcab38"
      },
      "execution_count": null,
      "outputs": [
        {
          "output_type": "stream",
          "name": "stdout",
          "text": [
            "Keys in the npz file: ['taxi', 'bike', 'meta_onehot', 'tcov_relu', 'tcov_half', 'tcov_tanh', 'mask']\n"
          ]
        }
      ]
    },
    {
      "cell_type": "code",
      "source": [
        "# Load the meta_onehot data\n",
        "import random\n",
        "data_dict = {key: JONAS_DC[key] for key in JONAS_DC.files}\n",
        "meta_onehot_data = data_dict['meta_onehot']\n",
        "\n",
        "# Get the indices where meta_onehot_data[:, 35] == 1\n",
        "indices = np.where(meta_onehot_data[:, 35] == 1)[0]\n",
        "print(len(indices))\n",
        "\n",
        "# Step 1: Identify numbers that satisfy number % 24 == 0\n",
        "selected_numbers = [number for number in indices if number % 24 == 0]\n",
        "\n",
        "# Step 2: Randomly shuffle the list of selected numbers\n",
        "random.shuffle(selected_numbers)\n",
        "\n",
        "# Step 3: Select the first half of the shuffled list (50% of the list)\n",
        "num_to_select = len(selected_numbers) // 2\n",
        "print(num_to_select)\n",
        "selected_50_percent = selected_numbers[:num_to_select]\n",
        "\n",
        "for i in selected_50_percent:\n",
        "  for h in range(24):\n",
        "    meta_onehot_data[i+h,35] = 0\n",
        "\n",
        "# # Update the meta_onehot data in the JONAS_DC dictionary\n",
        "data_dict['meta_onehot'] = meta_onehot_data\n",
        "indices = np.where(data_dict['meta_onehot'][:, 35] == 1)[0]\n",
        "print(len(indices))\n",
        "\n",
        "# # Save the updated JONAS_DC dictionary back to the .npz file\n",
        "np.savez('/content/drive/MyDrive/EAST-Net/data/JONAS-DC-9x12-20151024-20160131-change.npz', **data_dict)"
      ],
      "metadata": {
        "colab": {
          "base_uri": "https://localhost:8080/"
        },
        "id": "SQGfGLL9Ythb",
        "outputId": "2bff3ad9-67f4-4f41-edbd-015ae4e66b00"
      },
      "execution_count": null,
      "outputs": [
        {
          "output_type": "stream",
          "name": "stdout",
          "text": [
            "840\n",
            "17\n",
            "432\n"
          ]
        }
      ]
    },
    {
      "cell_type": "code",
      "source": [],
      "metadata": {
        "id": "jFYb_KhKagEe"
      },
      "execution_count": null,
      "outputs": []
    }
  ]
}